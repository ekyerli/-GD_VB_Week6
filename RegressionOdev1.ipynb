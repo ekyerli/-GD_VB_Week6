{
 "cells": [
  {
   "cell_type": "markdown",
   "id": "sunset-plate",
   "metadata": {},
   "source": [
    "**1) Birkaç ülke için elinizde finansal, ekonomik ve sosyal göstergeler hakkında Dünya Bankası verileri olduğunu varsayalım. Bu ülkelerdeki gelişme düzeyini etkileyen faktörleri ölçmek istiyorsunuz. Bu amaçla, milli gelirin nüfusa bölümü olarak tanımlanan kişi başına düşen milli geliri, kalkınma seviyesi için bir vekil olarak kullanmaya karar verdiniz. Kişi başına geliri tahmin etmek için veri kümenizdeki bazı özellikleri kullanmak istiyorsunuz. Bu görev bir sınıflandırma görevi mi yoksa bir regresyon görevi mi? Niçin?**"
   ]
  },
  {
   "cell_type": "markdown",
   "id": "champion-tension",
   "metadata": {},
   "source": [
    "Regresyon görevidir, çünkü kişi başına düşen milli gelir matematiksel olarak formülüze edebileceğimiz sürekli bir veridir. "
   ]
  },
  {
   "cell_type": "markdown",
   "id": "looking-grave",
   "metadata": {},
   "source": [
    "**2) Aşağıdaki argümanlardan hangileri yanlıştır ve neden?**\n",
    "\n",
    "    OLS, özel bir doğrusal regresyon modelidir.\n",
    "    Regresyon modelleri, doğrusal regresyon varsayımlarını karşılamıyorsa kullanışsız hale gelir.\n",
    "    Estimation ve prediction, doğrusal regresyon modelleri bağlamında aynı şeydir.\n",
    "    Doğrusal regresyon modeli sadece bir tür regresyon modelidir. Regresyon problemleri, Support Vector Machines veya Random Forests gibi başka modellerle de çözülebilir."
   ]
  },
  {
   "cell_type": "markdown",
   "id": "caroline-trunk",
   "metadata": {},
   "source": [
    "2. madde yanlıştır, bazı düzenlemeler sonrası doğrusal regresyona uygun hale gelebilir."
   ]
  },
  {
   "cell_type": "markdown",
   "id": "considerable-medication",
   "metadata": {},
   "source": [
    "**3) Proje yöneticinizin, şirketinizin sunduğu hangi ücretsiz hizmetlerin, müşterilerinizin daha fazla ücretli hizmet satın almasını sağladığını bulmanızı istediğini varsayalım. Bu görevi bir regresyon problemi olarak formüle edin ve üzerinde çalışmak istediğiniz potansiyel sonucu ve özellikleri yazın**"
   ]
  },
  {
   "cell_type": "markdown",
   "id": "legal-electronics",
   "metadata": {},
   "source": [
    "Öncelikle ücretsiz içerikler ile ücretli içerikler arasında bir bağıntı olup olmadığı kontrol edilmelidir. Daha sonra hangi ücretsiz hizmetlerin kullanıcının ücretli hizmet almaya teşvik ettiğini görmeye çalışmalıyız. Örneğin bir savaş oynunda müşteriye fazladan silah koymak için slot vermemiz, onun o slot için parayla silah almaya teşvik edeceğini görebiliriz."
   ]
  }
 ],
 "metadata": {
  "kernelspec": {
   "display_name": "Python 3",
   "language": "python",
   "name": "python3"
  },
  "language_info": {
   "codemirror_mode": {
    "name": "ipython",
    "version": 3
   },
   "file_extension": ".py",
   "mimetype": "text/x-python",
   "name": "python",
   "nbconvert_exporter": "python",
   "pygments_lexer": "ipython3",
   "version": "3.9.4"
  }
 },
 "nbformat": 4,
 "nbformat_minor": 5
}
